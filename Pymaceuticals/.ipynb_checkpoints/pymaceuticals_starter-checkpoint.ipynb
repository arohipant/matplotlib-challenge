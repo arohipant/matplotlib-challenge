{
 "cells": [
  {
   "cell_type": "markdown",
   "metadata": {},
   "source": [
    "## Observations and Insights"
   ]
  },
  {
   "cell_type": "markdown",
   "metadata": {},
   "source": []
  },
  {
   "cell_type": "markdown",
   "metadata": {},
   "source": [
    "## Dependencies and starter code"
   ]
  },
  {
   "cell_type": "code",
   "execution_count": 1,
   "metadata": {},
   "outputs": [
    {
     "data": {
      "text/html": [
       "<div>\n",
       "<style scoped>\n",
       "    .dataframe tbody tr th:only-of-type {\n",
       "        vertical-align: middle;\n",
       "    }\n",
       "\n",
       "    .dataframe tbody tr th {\n",
       "        vertical-align: top;\n",
       "    }\n",
       "\n",
       "    .dataframe thead th {\n",
       "        text-align: right;\n",
       "    }\n",
       "</style>\n",
       "<table border=\"1\" class=\"dataframe\">\n",
       "  <thead>\n",
       "    <tr style=\"text-align: right;\">\n",
       "      <th></th>\n",
       "      <th>Mouse ID</th>\n",
       "      <th>Drug Regimen</th>\n",
       "      <th>Sex</th>\n",
       "      <th>Age_months</th>\n",
       "      <th>Weight (g)</th>\n",
       "      <th>Timepoint</th>\n",
       "      <th>Tumor Volume (mm3)</th>\n",
       "      <th>Metastatic Sites</th>\n",
       "    </tr>\n",
       "  </thead>\n",
       "  <tbody>\n",
       "    <tr>\n",
       "      <th>0</th>\n",
       "      <td>k403</td>\n",
       "      <td>Ramicane</td>\n",
       "      <td>Male</td>\n",
       "      <td>21</td>\n",
       "      <td>16</td>\n",
       "      <td>0</td>\n",
       "      <td>45.000000</td>\n",
       "      <td>0</td>\n",
       "    </tr>\n",
       "    <tr>\n",
       "      <th>1</th>\n",
       "      <td>k403</td>\n",
       "      <td>Ramicane</td>\n",
       "      <td>Male</td>\n",
       "      <td>21</td>\n",
       "      <td>16</td>\n",
       "      <td>5</td>\n",
       "      <td>38.825898</td>\n",
       "      <td>0</td>\n",
       "    </tr>\n",
       "    <tr>\n",
       "      <th>2</th>\n",
       "      <td>k403</td>\n",
       "      <td>Ramicane</td>\n",
       "      <td>Male</td>\n",
       "      <td>21</td>\n",
       "      <td>16</td>\n",
       "      <td>10</td>\n",
       "      <td>35.014271</td>\n",
       "      <td>1</td>\n",
       "    </tr>\n",
       "    <tr>\n",
       "      <th>3</th>\n",
       "      <td>k403</td>\n",
       "      <td>Ramicane</td>\n",
       "      <td>Male</td>\n",
       "      <td>21</td>\n",
       "      <td>16</td>\n",
       "      <td>15</td>\n",
       "      <td>34.223992</td>\n",
       "      <td>1</td>\n",
       "    </tr>\n",
       "    <tr>\n",
       "      <th>4</th>\n",
       "      <td>k403</td>\n",
       "      <td>Ramicane</td>\n",
       "      <td>Male</td>\n",
       "      <td>21</td>\n",
       "      <td>16</td>\n",
       "      <td>20</td>\n",
       "      <td>32.997729</td>\n",
       "      <td>1</td>\n",
       "    </tr>\n",
       "  </tbody>\n",
       "</table>\n",
       "</div>"
      ],
      "text/plain": [
       "  Mouse ID Drug Regimen   Sex  Age_months  Weight (g)  Timepoint  \\\n",
       "0     k403     Ramicane  Male          21          16          0   \n",
       "1     k403     Ramicane  Male          21          16          5   \n",
       "2     k403     Ramicane  Male          21          16         10   \n",
       "3     k403     Ramicane  Male          21          16         15   \n",
       "4     k403     Ramicane  Male          21          16         20   \n",
       "\n",
       "   Tumor Volume (mm3)  Metastatic Sites  \n",
       "0           45.000000                 0  \n",
       "1           38.825898                 0  \n",
       "2           35.014271                 1  \n",
       "3           34.223992                 1  \n",
       "4           32.997729                 1  "
      ]
     },
     "execution_count": 1,
     "metadata": {},
     "output_type": "execute_result"
    }
   ],
   "source": [
    "# Dependencies and Setup\n",
    "import matplotlib.pyplot as plt\n",
    "import pandas as pd\n",
    "import scipy.stats as st\n",
    "import numpy as np\n",
    "\n",
    "# Study data files\n",
    "mouse_metadata = \"data/Mouse_metadata.csv\"\n",
    "study_results = \"data/Study_results.csv\"\n",
    "\n",
    "# Read the mouse data and the study results\n",
    "mouse_metadata = pd.read_csv(mouse_metadata)\n",
    "study_results = pd.read_csv(study_results)\n",
    "\n",
    "# Combine the data into a single dataset\n",
    "merged_df = pd.merge(mouse_metadata, study_results, on = \"Mouse ID\")\n",
    "\n",
    "#Display Dataset\n",
    "merged_df.head()"
   ]
  },
  {
   "cell_type": "markdown",
   "metadata": {},
   "source": [
    "## Summary statistics"
   ]
  },
  {
   "cell_type": "code",
   "execution_count": 11,
   "metadata": {
    "scrolled": true
   },
   "outputs": [
    {
     "name": "stdout",
     "output_type": "stream",
     "text": [
      "  Drug Regimen  Tumor Volume Mean  Tumor Volume Median  Tumor Volume SEM\n",
      "0    Capomulin          40.675741            41.557809          0.329346\n",
      "1     Ceftamin          52.591172            51.776157          0.469821\n",
      "2    Infubinol          52.884795            51.820584          0.492236\n",
      "3     Ketapril          55.235638            53.698743          0.603860\n",
      "4     Naftisol          54.331565            52.509285          0.596466\n",
      "5      Placebo          54.033581            52.288934          0.581331\n",
      "6     Propriva          52.322552            50.854632          0.512884\n",
      "7     Ramicane          40.216745            40.673236          0.320955\n",
      "8     Stelasyn          54.233149            52.431737          0.573111\n",
      "9    Zoniferol          53.236507            51.818479          0.516398\n"
     ]
    }
   ],
   "source": [
    "# Generate a summary statistics table of mean, median, variance, standard deviation, and SEM of the tumor volume for each regimen\n",
    "regimen_mean = merged_df.groupby([\"Drug Regimen\"])[\"Tumor Volume (mm3)\"].mean().reset_index()\n",
    "#print(regimen_mean)\n",
    "\n",
    "regimen_median = merged_df.groupby([\"Drug Regimen\"])[\"Tumor Volume (mm3)\"].median().reset_index()\n",
    "#print(regimen_median)\n",
    "\n",
    "#regimen_varinace\n",
    "regimen_var = merged_df.groupby([\"Drug Regimen\"])[\"Tumor Volume (mm3)\"].var().reset_index()\n",
    "#print(regimen_var)\n",
    "\n",
    "#regimen_sd\n",
    "regimen_std = merged_df.groupby([\"Drug Regimen\"])[\"Tumor Volume (mm3)\"].std().reset_index()\n",
    "#print(regimen_std)\n",
    "\n",
    "regimen_sem = merged_df.groupby([\"Drug Regimen\"])[\"Tumor Volume (mm3)\"].sem().reset_index()\n",
    "#print(regimen_sem)\n",
    "\n",
    "#dataframe\n",
    "stats_table = pd.merge(regimen_mean, regimen_median, on = \"Drug Regimen\")\n",
    "stats_table1 = pd.merge(stats_table, regimen_var, on = \"Drug Regimen\")\n",
    "stats_table2 = pd.merge(stats_table, regimen_std, on = \"Drug Regimen\")\n",
    "stats_table3 = pd.merge(stats_table, regimen_sem, on = \"Drug Regimen\")\n",
    "stats_table4 = stats_table3.rename(columns = {'Tumor Volume (mm3)_x': 'Tumor Volume Mean', \n",
    "                                'Tumor Volume (mm3)_y': 'Tumor Volume Median', \n",
    "                                'Tumor Volume (mm3)': 'Tumor Volume Variance',\n",
    "                                'Tumor Volume (mm3)': 'Tumor Volume StDev',\n",
    "                                'Tumor Volume (mm3)': 'Tumor Volume SEM'})\n",
    "print(stats_table4)\n",
    "#stats_table_df = pd.DataFrame(stats_table4,index=[\"Tumor Volume Mean\", \"Tumor Volume Median\", \n",
    "#                                                  \"Tumor Volume Variance\",\"Tumor Volume StDev\",\n",
    "#                                                  \"Tumor Volume SEM\"],)\n",
    "#print(stats_table_df)"
   ]
  },
  {
   "cell_type": "markdown",
   "metadata": {},
   "source": [
    "## Bar plots"
   ]
  },
  {
   "cell_type": "code",
   "execution_count": 52,
   "metadata": {
    "scrolled": true
   },
   "outputs": [
    {
     "data": {
      "text/plain": [
       "<matplotlib.axes._subplots.AxesSubplot at 0x209f8525748>"
      ]
     },
     "execution_count": 52,
     "metadata": {},
     "output_type": "execute_result"
    },
    {
     "data": {
      "image/png": "[encoded data removed]",
      "text/plain": [
       "<Figure size 720x432 with 1 Axes>"
      ]
     },
     "metadata": {},
     "output_type": "display_data"
    }
   ],
   "source": [
    "# Generate a bar plot showing number of data points for each treatment regimen using pandas\n",
    "#drug = merged_df['Drug Regimen'].unique()\n",
    "#x_axis = np.arange(len(stats_table4))\n",
    "Panda_Plot_DF = merged_df[['Drug Regimen','Tumor Volume (mm3)']].groupby(['Drug Regimen']).count()\n",
    "Panda_Plot_DF2 = Panda_Plot_DF.rename(columns={'Tumor Volume (mm3)':'Counts of Data Points'})\n",
    "Panda_Plot_DF2.plot.bar(color='r', alpha=0.5, align='center')"
   ]
  },
  {
   "cell_type": "code",
   "execution_count": 47,
   "metadata": {},
   "outputs": [
    {
     "data": {
      "image/png": "[encoded data removed]",
      "text/plain": [
       "<Figure size 720x432 with 1 Axes>"
      ]
     },
     "metadata": {},
     "output_type": "display_data"
    }
   ],
   "source": [
    "# Generate a bar plot showing number of data points for each treatment regimen using pyplot\n",
    "x_axis = stats_table4.index.values\n",
    "#tick_locations = [value for value in x_axis]\n",
    "#print(x_axis)\n",
    "\n",
    "number_of_dp = merged_df['Drug Regimen'].value_counts().reset_index()\n",
    "#print(number_of_dp)\n",
    "\n",
    "plt.bar(number_of_dp[\"index\"], number_of_dp[\"Drug Regimen\"] , color='r', alpha=0.5, align=\"center\")# number of row value count, .index.values\n",
    "#mergedf to count the number count per drug\n",
    "\n",
    "#format\n",
    "plt.xlabel(\"Drug Regimen\")\n",
    "plt.ylabel(\"Drug Regimen Count\")\n",
    "plt.tight_layout()\n",
    "plt.title(\"Count of Data Points per Drug Regimen\")\n",
    "plt.style.use('ggplot')\n",
    "#plt.xticks(x_axis, number_of_dp[\"Drug Regimen\"], rotation=\"vertical\")"
   ]
  },
  {
   "cell_type": "markdown",
   "metadata": {},
   "source": [
    "## Pie plots"
   ]
  },
  {
   "cell_type": "code",
   "execution_count": null,
   "metadata": {},
   "outputs": [],
   "source": [
    "# Generate a pie plot showing the distribution of female versus male mice using pandas\n"
   ]
  },
  {
   "cell_type": "code",
   "execution_count": null,
   "metadata": {},
   "outputs": [],
   "source": [
    "# Generate a pie plot showing the distribution of female versus male mice using pyplot\n"
   ]
  },
  {
   "cell_type": "markdown",
   "metadata": {},
   "source": [
    "## Quartiles, outliers and boxplots"
   ]
  },
  {
   "cell_type": "code",
   "execution_count": null,
   "metadata": {},
   "outputs": [],
   "source": [
    "# Calculate the final tumor volume of each mouse across four of the most promising treatment regimens. Calculate the IQR and quantitatively determine if there are any potential outliers. "
   ]
  },
  {
   "cell_type": "code",
   "execution_count": null,
   "metadata": {},
   "outputs": [],
   "source": [
    "# Generate a box plot of the final tumor volume of each mouse across four regimens of interest"
   ]
  },
  {
   "cell_type": "markdown",
   "metadata": {},
   "source": [
    "## Line and scatter plots"
   ]
  },
  {
   "cell_type": "code",
   "execution_count": null,
   "metadata": {},
   "outputs": [],
   "source": [
    "# Generate a line plot of time point versus tumor volume for a mouse treated with Capomulin"
   ]
  },
  {
   "cell_type": "code",
   "execution_count": null,
   "metadata": {},
   "outputs": [],
   "source": [
    "# Generate a scatter plot of mouse weight versus average tumor volume for the Capomulin regimen"
   ]
  },
  {
   "cell_type": "code",
   "execution_count": null,
   "metadata": {},
   "outputs": [],
   "source": [
    "# Calculate the correlation coefficient and linear regression model for mouse weight and average tumor volume for the Capomulin regimen"
   ]
  },
  {
   "cell_type": "code",
   "execution_count": null,
   "metadata": {},
   "outputs": [],
   "source": []
  }
 ],
 "metadata": {
  "anaconda-cloud": {},
  "kernelspec": {
   "display_name": "Python [conda env:PythonData]",
   "language": "python",
   "name": "conda-env-PythonData-py"
  },
  "language_info": {
   "codemirror_mode": {
    "name": "ipython",
    "version": 3
   },
   "file_extension": ".py",
   "mimetype": "text/x-python",
   "name": "python",
   "nbconvert_exporter": "python",
   "pygments_lexer": "ipython3",
   "version": "3.6.10"
  }
 },
 "nbformat": 4,
 "nbformat_minor": 2
}
